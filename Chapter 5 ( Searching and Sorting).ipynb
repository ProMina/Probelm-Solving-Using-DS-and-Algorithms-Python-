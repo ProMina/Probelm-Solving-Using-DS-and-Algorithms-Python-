{
 "cells": [
  {
   "cell_type": "code",
   "execution_count": 5,
   "metadata": {},
   "outputs": [
    {
     "data": {
      "text/plain": [
       "False"
      ]
     },
     "execution_count": 5,
     "metadata": {},
     "output_type": "execute_result"
    }
   ],
   "source": [
    "'''\n",
    "Basic Sequential Search\n",
    "'''\n",
    "def search(arr,target):\n",
    "    found = False\n",
    "    for i in range(len(arr)):\n",
    "        if(arr[i] == target):\n",
    "            found=True\n",
    "            return(found)\n",
    "    found = False\n",
    "    return(found)\n",
    "\n",
    "A = [2,3,4,8,99,1,10]\n",
    "search(A,11)"
   ]
  },
  {
   "cell_type": "code",
   "execution_count": 10,
   "metadata": {},
   "outputs": [
    {
     "data": {
      "text/plain": [
       "False"
      ]
     },
     "execution_count": 10,
     "metadata": {},
     "output_type": "execute_result"
    }
   ],
   "source": [
    "'''\n",
    "Ordered Sequential Search\n",
    "'''\n",
    "def ordered_search(arr,target):\n",
    "    found = False\n",
    "    stop = False\n",
    "    n = len(arr)\n",
    "    i = 0\n",
    "    while i < n and not stop and not found:\n",
    "        if(arr[i] == target):\n",
    "            found=True\n",
    "            stop=True\n",
    "            return(found)\n",
    "        else:\n",
    "            if(arr[i]>target):\n",
    "                stop=True\n",
    "            else:\n",
    "                i = i+1\n",
    "    found = False\n",
    "    return(found)\n",
    "\n",
    "A = [1,2,3,6,9,12,23,56,80]\n",
    "ordered_search(A,4)"
   ]
  },
  {
   "cell_type": "code",
   "execution_count": 13,
   "metadata": {},
   "outputs": [
    {
     "data": {
      "text/plain": [
       "True"
      ]
     },
     "execution_count": 13,
     "metadata": {},
     "output_type": "execute_result"
    }
   ],
   "source": [
    "def binary_search(arr,target):\n",
    "    first = 0\n",
    "    last = len(arr) -1\n",
    "    found = False\n",
    "    while first <= last and not found:\n",
    "        midpoint = (first + last) // 2 \n",
    "        if(arr[midpoint] == target):\n",
    "            found = True\n",
    "        else:\n",
    "            if(target < arr[midpoint]):\n",
    "                last = midpoint -1\n",
    "            else:\n",
    "                first = midpoint +1\n",
    "    return(found)\n",
    "mylist = [1,2,3,4,5,6,7,8,9,23,45,68,90]\n",
    "binary_search(mylist,3)"
   ]
  },
  {
   "cell_type": "code",
   "execution_count": 18,
   "metadata": {},
   "outputs": [
    {
     "data": {
      "text/plain": [
       "True"
      ]
     },
     "execution_count": 18,
     "metadata": {},
     "output_type": "execute_result"
    }
   ],
   "source": [
    "'''\n",
    "Binary Search using Recursion\n",
    "'''\n",
    "def binary_search_rec(arr,target):\n",
    "    first = 0\n",
    "    last = len(arr) - 1\n",
    "    found = False\n",
    "    if (len(arr) == 0):\n",
    "        return False\n",
    "    else:\n",
    "        midpoint = (first + last) // 2\n",
    "        if(arr[midpoint] == target):\n",
    "            return True\n",
    "        else:\n",
    "            if (target < arr[midpoint]):\n",
    "                return(binary_search_rec(arr[:midpoint],target))\n",
    "            else:\n",
    "                return(binary_search_rec(arr[midpoint+1:],target))\n",
    "\n",
    "A = [1,2,3,4,5,6,7,8,9,23,45,68,90]\n",
    "binary_search_rec(A,23)"
   ]
  },
  {
   "cell_type": "code",
   "execution_count": 48,
   "metadata": {},
   "outputs": [
    {
     "data": {
      "text/plain": [
       "9"
      ]
     },
     "execution_count": 48,
     "metadata": {},
     "output_type": "execute_result"
    }
   ],
   "source": [
    "'''\n",
    "Hashing\n",
    "'''\n",
    "def hash_string(string,table):\n",
    "    sum = 0\n",
    "    for i in range(len(string)):\n",
    "        sum += ord(string[i])*(i+1)\n",
    "    return(sum%table)\n",
    "\n",
    "hash(\"live\",11)\n"
   ]
  },
  {
   "cell_type": "code",
   "execution_count": 105,
   "metadata": {},
   "outputs": [
    {
     "name": "stdout",
     "output_type": "stream",
     "text": [
      "[[None, None, None, None, None, None, None, None, None, None, 54], [None, None, None, None, None, None, None, None, None, None, 54], [None, None, None, None, None, None, None, None, None, None, 54], [None, None, None, None, None, None, None, None, None, None, 54], [None, None, None, None, None, None, None, None, None, None, 54], [None, None, None, None, None, None, None, None, None, None, 54], [None, None, None, None, None, None, None, None, None, None, 54], [None, None, None, None, None, None, None, None, None, None, 54], [None, None, None, None, None, None, None, None, None, None, 54]]\n",
      "[[None, None, None, None, 26, None, None, None, None, None, 54], [None, None, None, None, 26, None, None, None, None, None, 54], [None, None, None, None, 26, None, None, None, None, None, 54], [None, None, None, None, 26, None, None, None, None, None, 54], [None, None, None, None, 26, None, None, None, None, None, 54], [None, None, None, None, 26, None, None, None, None, None, 54], [None, None, None, None, 26, None, None, None, None, None, 54], [None, None, None, None, 26, None, None, None, None, None, 54], [None, None, None, None, 26, None, None, None, None, None, 54]]\n",
      "[[None, None, None, None, 26, 93, None, None, None, None, 54], [None, None, None, None, 26, 93, None, None, None, None, 54], [None, None, None, None, 26, 93, None, None, None, None, 54], [None, None, None, None, 26, 93, None, None, None, None, 54], [None, None, None, None, 26, 93, None, None, None, None, 54], [None, None, None, None, 26, 93, None, None, None, None, 54], [None, None, None, None, 26, 93, None, None, None, None, 54], [None, None, None, None, 26, 93, None, None, None, None, 54], [None, None, None, None, 26, 93, None, None, None, None, 54]]\n",
      "[[None, None, None, None, 26, 93, 17, None, None, None, 54], [None, None, None, None, 26, 93, 17, None, None, None, 54], [None, None, None, None, 26, 93, 17, None, None, None, 54], [None, None, None, None, 26, 93, 17, None, None, None, 54], [None, None, None, None, 26, 93, 17, None, None, None, 54], [None, None, None, None, 26, 93, 17, None, None, None, 54], [None, None, None, None, 26, 93, 17, None, None, None, 54], [None, None, None, None, 26, 93, 17, None, None, None, 54], [None, None, None, None, 26, 93, 17, None, None, None, 54]]\n",
      "[[77, None, None, None, 26, 93, 17, None, None, None, 54], [77, None, None, None, 26, 93, 17, None, None, None, 54], [77, None, None, None, 26, 93, 17, None, None, None, 54], [77, None, None, None, 26, 93, 17, None, None, None, 54], [77, None, None, None, 26, 93, 17, None, None, None, 54], [77, None, None, None, 26, 93, 17, None, None, None, 54], [77, None, None, None, 26, 93, 17, None, None, None, 54], [77, None, None, None, 26, 93, 17, None, None, None, 54], [77, None, None, None, 26, 93, 17, None, None, None, 54]]\n"
     ]
    }
   ],
   "source": [
    "'''\n",
    "2D Hash Map Approach\n",
    "'''\n",
    "def hash_a(var,table_size):\n",
    "    return(var%table_size)\n",
    "\n",
    "def hash_b(var,table_size):\n",
    "    return(var%(table_size-2))\n",
    "\n",
    "def insert_hash(MAP,var,table):\n",
    "    if(MAP[0][hash_a(var,table)] == None):\n",
    "        MAP[0][hash_a(var,table)] = var\n",
    "    else:\n",
    "        MAP[hash_a(var,table)][hash_b(var,table)] = var\n",
    "    print(MAP)\n",
    "\n",
    "def display_MAP(MAP):\n",
    "    for i in range(len(MAP)):\n",
    "        for j in range(len(MAP)):\n",
    "            print(MAP[i][j])\n",
    "\n",
    "MAP = [[None]*11]*9\n",
    "\n",
    "insert_hash(MAP,54,11)\n",
    "insert_hash(MAP,26,11)\n",
    "insert_hash(MAP,93,11)\n",
    "insert_hash(MAP,17,11)\n",
    "insert_hash(MAP,77,11)\n",
    "\n",
    "\n",
    "\n"
   ]
  },
  {
   "cell_type": "code",
   "execution_count": 87,
   "metadata": {},
   "outputs": [
    {
     "data": {
      "text/plain": [
       "0"
      ]
     },
     "execution_count": 87,
     "metadata": {},
     "output_type": "execute_result"
    }
   ],
   "source": [
    "130%13"
   ]
  },
  {
   "cell_type": "code",
   "execution_count": 116,
   "metadata": {},
   "outputs": [
    {
     "data": {
      "text/plain": [
       "[None, None, None, None, 'dad', None, None, None, None, None, 'cat']"
      ]
     },
     "execution_count": 116,
     "metadata": {},
     "output_type": "execute_result"
    }
   ],
   "source": [
    "'''\n",
    "Implementing MAP ADT\n",
    "'''\n",
    "\n",
    "class HashTable():\n",
    "    def __init__(self):\n",
    "        self.size = 11\n",
    "        self.slots = [None] * self.size\n",
    "        self.data = [None] * self.size\n",
    "\n",
    "    def put(self,key,data):\n",
    "      hashvalue = self.hashfunction(key,len(self.slots))\n",
    "\n",
    "      if self.slots[hashvalue] == None:\n",
    "        self.slots[hashvalue] = key\n",
    "        self.data[hashvalue] = data\n",
    "      else:\n",
    "        if self.slots[hashvalue] == key:\n",
    "          self.data[hashvalue] = data  #replace\n",
    "        else:\n",
    "          nextslot = self.rehash(hashvalue,len(self.slots))\n",
    "          while self.slots[nextslot] != None and \\\n",
    "                          self.slots[nextslot] != key:\n",
    "            nextslot = self.rehash(nextslot,len(self.slots))\n",
    "\n",
    "          if self.slots[nextslot] == None:\n",
    "            self.slots[nextslot]=key\n",
    "            self.data[nextslot]=data\n",
    "          else:\n",
    "            self.data[nextslot] = data #replace\n",
    "\n",
    "    def hashfunction(self,key,size):\n",
    "         return key%size\n",
    "\n",
    "    def rehash(self,oldhash,size):\n",
    "        return (oldhash+1)%size\n",
    "\n",
    "    def get(self,key):\n",
    "      startslot = self.hashfunction(key,len(self.slots))\n",
    "\n",
    "      data = None\n",
    "      stop = False\n",
    "      found = False\n",
    "      position = startslot\n",
    "      while self.slots[position] != None and  \\\n",
    "                           not found and not stop:\n",
    "         if self.slots[position] == key:\n",
    "           found = True\n",
    "           data = self.data[position]\n",
    "         else:\n",
    "           position=self.rehash(position,len(self.slots))\n",
    "           if position == startslot:\n",
    "               stop = True\n",
    "      return data\n",
    "\n",
    "    def __getitem__(self,key):\n",
    "        return self.get(key)\n",
    "\n",
    "    def __setitem__(self,key,data):\n",
    "        self.put(key,data)\n",
    "    \n",
    "H=HashTable()\n",
    "H.put(54,'cat')\n",
    "H[26]='dad'\n",
    "H.slots\n",
    "H.data"
   ]
  },
  {
   "cell_type": "code",
   "execution_count": 118,
   "metadata": {},
   "outputs": [
    {
     "name": "stdout",
     "output_type": "stream",
     "text": [
      "[1, 2, 3, 22, 23, 54, 55, 90]\n"
     ]
    }
   ],
   "source": [
    "'''Sorting'''\n",
    "'''Bubble Sort'''\n",
    "\n",
    "def bubble_sort(arr):\n",
    "    for i in range(len(arr)-1,0,-1):\n",
    "        for j in range(i):\n",
    "            if(arr[j]>arr[j+1]):\n",
    "                temp = arr[j]\n",
    "                arr[j] = arr[j+1]\n",
    "                arr[j+1] = temp\n",
    "myList = [90,54,23,22,1,2,3,55]\n",
    "\n",
    "bubble_sort(myList)\n",
    "print(myList)"
   ]
  },
  {
   "cell_type": "code",
   "execution_count": 127,
   "metadata": {},
   "outputs": [
    {
     "name": "stdout",
     "output_type": "stream",
     "text": [
      "4999999950000000\n"
     ]
    }
   ],
   "source": [
    "sum = 0\n",
    "for i in range(100000000):\n",
    "    sum += i\n",
    "print(sum)"
   ]
  },
  {
   "cell_type": "code",
   "execution_count": 128,
   "metadata": {},
   "outputs": [
    {
     "name": "stdout",
     "output_type": "stream",
     "text": [
      "4999999950000000.0\n"
     ]
    }
   ],
   "source": [
    "sum = (0.5*(100000000)**2) - (0.5*(100000000))\n",
    "print(sum)"
   ]
  },
  {
   "cell_type": "code",
   "execution_count": 129,
   "metadata": {},
   "outputs": [
    {
     "name": "stdout",
     "output_type": "stream",
     "text": [
      "[20, 30, 40, 50, 60, 70, 80, 90, 100, 110]\n"
     ]
    }
   ],
   "source": [
    "def shortBubbleSort(alist):\n",
    "    exchanges = True\n",
    "    passnum = len(alist)-1\n",
    "    while passnum > 0 and exchanges:\n",
    "       exchanges = False\n",
    "       for i in range(passnum):\n",
    "           if alist[i]>alist[i+1]:\n",
    "               exchanges = True\n",
    "               temp = alist[i]\n",
    "               alist[i] = alist[i+1]\n",
    "               alist[i+1] = temp\n",
    "       passnum = passnum-1\n",
    "\n",
    "alist=[20,30,40,90,50,60,70,80,100,110]\n",
    "shortBubbleSort(alist)\n",
    "print(alist)\n"
   ]
  },
  {
   "cell_type": "code",
   "execution_count": 134,
   "metadata": {},
   "outputs": [
    {
     "name": "stdout",
     "output_type": "stream",
     "text": [
      "[17, 20, 26, 31, 44, 54, 55, 77, 93]\n"
     ]
    }
   ],
   "source": [
    "'''\n",
    "Selection Sort\n",
    "'''\n",
    "\n",
    "def selectionSort(alist):\n",
    "   for fillslot in range(len(alist)-1,0,-1):\n",
    "       positionOfMax=0\n",
    "       for location in range(1,fillslot+1):\n",
    "            if alist[location]>alist[positionOfMax]:\n",
    "                positionOfMax = location\n",
    "\n",
    "       temp = alist[fillslot]\n",
    "       alist[fillslot] = alist[positionOfMax]\n",
    "       alist[positionOfMax] = temp\n",
    "\n",
    "alist = [54,26,93,17,77,31,44,55,20]\n",
    "selectionSort(alist)\n",
    "print(alist)\n",
    "\n",
    "    "
   ]
  },
  {
   "cell_type": "code",
   "execution_count": 135,
   "metadata": {},
   "outputs": [
    {
     "name": "stdout",
     "output_type": "stream",
     "text": [
      "[17, 20, 26, 31, 44, 54, 55, 77, 93]\n"
     ]
    }
   ],
   "source": [
    "'''\n",
    "Insertion Sort\n",
    "'''\n",
    "def insertionSort(arr):\n",
    "    for i in range(1,len(arr)):\n",
    "        current = arr[i]\n",
    "        position = i\n",
    "        while position > 0 and arr[position -1] > current:\n",
    "            arr[position] = arr[position -1]\n",
    "            position = position -1\n",
    "        arr[position] = current\n",
    "\n",
    "alist = [54,26,93,17,77,31,44,55,20]\n",
    "insertionSort(alist)\n",
    "print(alist)\n",
    "\n",
    "        "
   ]
  },
  {
   "cell_type": "code",
   "execution_count": 136,
   "metadata": {},
   "outputs": [
    {
     "name": "stdout",
     "output_type": "stream",
     "text": [
      "After increments of size 4 The list is [20, 26, 44, 17, 54, 31, 93, 55, 77]\n",
      "After increments of size 2 The list is [20, 17, 44, 26, 54, 31, 77, 55, 93]\n",
      "After increments of size 1 The list is [17, 20, 26, 31, 44, 54, 55, 77, 93]\n",
      "[17, 20, 26, 31, 44, 54, 55, 77, 93]\n"
     ]
    }
   ],
   "source": [
    "'''\n",
    "Shell Sort\n",
    "'''\n",
    "def shellSort(alist):\n",
    "    sublistcount = len(alist)//2\n",
    "    while sublistcount > 0:\n",
    "\n",
    "      for startposition in range(sublistcount):\n",
    "        gapInsertionSort(alist,startposition,sublistcount)\n",
    "\n",
    "      print(\"After increments of size\",sublistcount,\n",
    "                                   \"The list is\",alist)\n",
    "\n",
    "      sublistcount = sublistcount // 2\n",
    "\n",
    "def gapInsertionSort(alist,start,gap):\n",
    "    for i in range(start+gap,len(alist),gap):\n",
    "\n",
    "        currentvalue = alist[i]\n",
    "        position = i\n",
    "\n",
    "        while position>=gap and alist[position-gap]>currentvalue:\n",
    "            alist[position]=alist[position-gap]\n",
    "            position = position-gap\n",
    "\n",
    "        alist[position]=currentvalue\n",
    "\n",
    "alist = [54,26,93,17,77,31,44,55,20]\n",
    "shellSort(alist)\n",
    "print(alist)\n"
   ]
  },
  {
   "cell_type": "code",
   "execution_count": 137,
   "metadata": {},
   "outputs": [
    {
     "data": {
      "text/plain": [
       "4"
      ]
     },
     "execution_count": 137,
     "metadata": {},
     "output_type": "execute_result"
    }
   ],
   "source": [
    "9//2"
   ]
  },
  {
   "cell_type": "code",
   "execution_count": 141,
   "metadata": {},
   "outputs": [
    {
     "name": "stdout",
     "output_type": "stream",
     "text": [
      "Splitting  [21, 1, 26, 45, 29, 28, 2, 9, 16, 49, 39, 27, 43, 34, 46, 40]\n",
      "Splitting  [21, 1, 26, 45, 29, 28, 2, 9]\n",
      "Splitting  [21, 1, 26, 45]\n",
      "Splitting  [21, 1]\n",
      "Splitting  [21]\n",
      "Merging  [21]\n",
      "Splitting  [1]\n",
      "Merging  [1]\n",
      "Merging  [1, 21]\n",
      "Splitting  [26, 45]\n",
      "Splitting  [26]\n",
      "Merging  [26]\n",
      "Splitting  [45]\n",
      "Merging  [45]\n",
      "Merging  [26, 45]\n",
      "Merging  [1, 21, 26, 45]\n",
      "Splitting  [29, 28, 2, 9]\n",
      "Splitting  [29, 28]\n",
      "Splitting  [29]\n",
      "Merging  [29]\n",
      "Splitting  [28]\n",
      "Merging  [28]\n",
      "Merging  [28, 29]\n",
      "Splitting  [2, 9]\n",
      "Splitting  [2]\n",
      "Merging  [2]\n",
      "Splitting  [9]\n",
      "Merging  [9]\n",
      "Merging  [2, 9]\n",
      "Merging  [2, 9, 28, 29]\n",
      "Merging  [1, 2, 9, 21, 26, 28, 29, 45]\n",
      "Splitting  [16, 49, 39, 27, 43, 34, 46, 40]\n",
      "Splitting  [16, 49, 39, 27]\n",
      "Splitting  [16, 49]\n",
      "Splitting  [16]\n",
      "Merging  [16]\n",
      "Splitting  [49]\n",
      "Merging  [49]\n",
      "Merging  [16, 49]\n",
      "Splitting  [39, 27]\n",
      "Splitting  [39]\n",
      "Merging  [39]\n",
      "Splitting  [27]\n",
      "Merging  [27]\n",
      "Merging  [27, 39]\n",
      "Merging  [16, 27, 39, 49]\n",
      "Splitting  [43, 34, 46, 40]\n",
      "Splitting  [43, 34]\n",
      "Splitting  [43]\n",
      "Merging  [43]\n",
      "Splitting  [34]\n",
      "Merging  [34]\n",
      "Merging  [34, 43]\n",
      "Splitting  [46, 40]\n",
      "Splitting  [46]\n",
      "Merging  [46]\n",
      "Splitting  [40]\n",
      "Merging  [40]\n",
      "Merging  [40, 46]\n",
      "Merging  [34, 40, 43, 46]\n",
      "Merging  [16, 27, 34, 39, 40, 43, 46, 49]\n",
      "Merging  [1, 2, 9, 16, 21, 26, 27, 28, 29, 34, 39, 40, 43, 45, 46, 49]\n",
      "[1, 2, 9, 16, 21, 26, 27, 28, 29, 34, 39, 40, 43, 45, 46, 49]\n"
     ]
    }
   ],
   "source": [
    "'''\n",
    "Merge Sort {Recursion Algo}\n",
    "'''\n",
    "\n",
    "def merge_sort(arr):\n",
    "    print(\"Splitting \",arr)\n",
    "    if(len(arr) > 1):\n",
    "        mid = len(arr)//2\n",
    "        left = arr[:mid]\n",
    "        right = arr[mid:]\n",
    "        \n",
    "        merge_sort(left)\n",
    "        merge_sort(right)\n",
    "        \n",
    "        i = 0 \n",
    "        j = 0\n",
    "        k = 0\n",
    "        \n",
    "        while i < len(left) and j < len(right):\n",
    "            if(left[i] < right[j]):\n",
    "                arr[k] = left[i]\n",
    "                i +=1\n",
    "            else:\n",
    "                arr[k] = right[j]\n",
    "                j +=1\n",
    "            k = k+1\n",
    "        while i < len(left):\n",
    "            arr[k] = left[i]\n",
    "            i = i +1\n",
    "            k = k +1\n",
    "        while j < len(right):\n",
    "            arr[k] = right[j]\n",
    "            j = j +1\n",
    "            k = k +1\n",
    "    print(\"Merging \",arr)\n",
    "\n",
    "alist = [21, 1, 26, 45, 29, 28, 2, 9, 16, 49, 39, 27, 43, 34, 46, 40]\n",
    "merge_sort(alist)\n",
    "print(alist)"
   ]
  },
  {
   "cell_type": "code",
   "execution_count": 140,
   "metadata": {},
   "outputs": [
    {
     "data": {
      "text/plain": [
       "8"
      ]
     },
     "execution_count": 140,
     "metadata": {},
     "output_type": "execute_result"
    }
   ],
   "source": [
    "16//2"
   ]
  },
  {
   "cell_type": "code",
   "execution_count": 162,
   "metadata": {},
   "outputs": [
    {
     "name": "stdout",
     "output_type": "stream",
     "text": [
      "[1, 2, 9, 21, 26, 28, 29, 45]\n"
     ]
    }
   ],
   "source": [
    "'''\n",
    "Quick Sort\n",
    "'''\n",
    "\n",
    "def QucikSort(A):\n",
    "    QucikSort2(A,0,len(A)-1)\n",
    "    return(A)\n",
    "\n",
    "def QucikSort2(A,low,high):\n",
    "    if(low < high):\n",
    "        p = partition(A,low,high)\n",
    "        QucikSort2(A,low,p-1)\n",
    "        QucikSort2(A,p+1,high)\n",
    "\n",
    "def getPivot(A,low,high):\n",
    "    mid = (low + high) // 2\n",
    "    pivot = high\n",
    "    if(A[low] < A[mid]):\n",
    "        if(A[mid] < A[high]):\n",
    "            pivot = mid\n",
    "        elif(A[low] < A[high]):\n",
    "            pivot = low\n",
    "    return(int(pivot))\n",
    "\n",
    "def partition(A,low,high):\n",
    "    pivotIndex = int(getPivot(A,low,high))\n",
    "    pivotValue = A[pivotIndex]\n",
    "    A[pivotIndex] , A[low] = A[low] , A[pivotIndex]\n",
    "    border = low\n",
    "    for i in range(low,high + 1):\n",
    "        if(A[i] < pivotValue):\n",
    "            border += 1\n",
    "            A[i],A[border] = A[border],A[i]\n",
    "    A[low],A[border] = A[border],A[low]\n",
    "    return(border)\n",
    "\n",
    "alist = [21, 1, 26, 45, 29, 28, 2, 9]\n",
    "print(QucikSort(alist))"
   ]
  },
  {
   "cell_type": "code",
   "execution_count": 163,
   "metadata": {},
   "outputs": [
    {
     "name": "stdout",
     "output_type": "stream",
     "text": [
      "[17, 20, 26, 31, 44, 54, 55, 77, 93]\n"
     ]
    }
   ],
   "source": [
    "'''\n",
    "Quick Sort\n",
    "'''\n",
    "\n",
    "def quickSort(alist):\n",
    "   quickSortHelper(alist,0,len(alist)-1)\n",
    "\n",
    "def quickSortHelper(alist,first,last):\n",
    "   if first<last:\n",
    "\n",
    "       splitpoint = partition(alist,first,last)\n",
    "\n",
    "       quickSortHelper(alist,first,splitpoint-1)\n",
    "       quickSortHelper(alist,splitpoint+1,last)\n",
    "\n",
    "\n",
    "def partition(alist,first,last):\n",
    "   pivotvalue = alist[first]\n",
    "\n",
    "   leftmark = first+1\n",
    "   rightmark = last\n",
    "\n",
    "   done = False\n",
    "   while not done:\n",
    "\n",
    "       while leftmark <= rightmark and alist[leftmark] <= pivotvalue:\n",
    "           leftmark = leftmark + 1\n",
    "\n",
    "       while alist[rightmark] >= pivotvalue and rightmark >= leftmark:\n",
    "           rightmark = rightmark -1\n",
    "\n",
    "       if rightmark < leftmark:\n",
    "           done = True\n",
    "       else:\n",
    "           temp = alist[leftmark]\n",
    "           alist[leftmark] = alist[rightmark]\n",
    "           alist[rightmark] = temp\n",
    "\n",
    "   temp = alist[first]\n",
    "   alist[first] = alist[rightmark]\n",
    "   alist[rightmark] = temp\n",
    "\n",
    "\n",
    "   return rightmark\n",
    "\n",
    "alist = [54,26,93,17,77,31,44,55,20]\n",
    "quickSort(alist)\n",
    "print(alist)\n"
   ]
  },
  {
   "cell_type": "code",
   "execution_count": 199,
   "metadata": {},
   "outputs": [
    {
     "name": "stdout",
     "output_type": "stream",
     "text": [
      "[17, 20, 26, 31, 44, 54, 55, 77, 93]\n"
     ]
    }
   ],
   "source": [
    "def qsort(arr): \n",
    "     if len(arr) <= 1:\n",
    "          return arr\n",
    "     else:\n",
    "          return qsort([x for x in arr[1:] if x<arr[0]]) + [arr[0]] + qsort([x for x in arr[1:] if x>=arr[0]])\n",
    "\n",
    "# this comment is just to improve readability due to horizontal scroll!!!\n",
    "        \n",
    "alist = [54,26,93,17,77,31,44,55,20]\n",
    "print(qsort(alist))"
   ]
  },
  {
   "cell_type": "code",
   "execution_count": 216,
   "metadata": {},
   "outputs": [
    {
     "name": "stdout",
     "output_type": "stream",
     "text": [
      "[0, 2, 3, 5, 6, 9, 10, 12, 21, 66, 78, 211, 232]\n"
     ]
    }
   ],
   "source": [
    "def QuickSort_Clean(Arr):\n",
    "    if(len(Arr) == 0 or len(Arr) ==1):\n",
    "        return(Arr)\n",
    "    else:\n",
    "        pivot = Arr[0]\n",
    "        pivots = [x for x in Arr if x == pivot]\n",
    "        smaller = QuickSort_Clean([x for x in Arr if x < pivot])\n",
    "        greater = QuickSort_Clean([x for x in Arr if x > pivot])\n",
    "        return smaller + pivots + greater\n",
    "\n",
    "\n",
    "mina = [10,2,3,5,6,9,12,21,211,232,66,78,0]\n",
    "print(QuickSort_Clean(mina))"
   ]
  },
  {
   "cell_type": "code",
   "execution_count": 223,
   "metadata": {},
   "outputs": [
    {
     "name": "stdout",
     "output_type": "stream",
     "text": [
      "[0, 2, 3, 5, 6, 9, 10, 12, 21, 66, 78, 211, 232]\n"
     ]
    }
   ],
   "source": [
    "def merge(a, b):\n",
    "    if len(a)*len(b) == 0:\n",
    "        return a+b\n",
    "\n",
    "    v = (a[0] < b[0] and a or b).pop(0)\n",
    "    return [v] + merge(a, b)\n",
    "\n",
    "def mergesort(lst):\n",
    "    if len(lst) < 2:\n",
    "        return lst\n",
    "\n",
    "    m = len(lst)//2\n",
    "    return merge(mergesort(lst[:m]), mergesort(lst[m:]))\n",
    "\n",
    "\n",
    "mina = [10,2,3,5,6,9,12,21,211,232,66,78,0]\n",
    "print(mergesort(mina))"
   ]
  },
  {
   "cell_type": "code",
   "execution_count": null,
   "metadata": {},
   "outputs": [],
   "source": []
  }
 ],
 "metadata": {
  "kernelspec": {
   "display_name": "Python 3",
   "language": "python",
   "name": "python3"
  },
  "language_info": {
   "codemirror_mode": {
    "name": "ipython",
    "version": 3
   },
   "file_extension": ".py",
   "mimetype": "text/x-python",
   "name": "python",
   "nbconvert_exporter": "python",
   "pygments_lexer": "ipython3",
   "version": "3.5.5"
  }
 },
 "nbformat": 4,
 "nbformat_minor": 2
}
