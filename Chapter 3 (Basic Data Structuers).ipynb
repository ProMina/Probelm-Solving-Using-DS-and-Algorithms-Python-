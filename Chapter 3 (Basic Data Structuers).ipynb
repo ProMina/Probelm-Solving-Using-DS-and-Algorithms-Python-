{
 "cells": [
  {
   "cell_type": "code",
   "execution_count": 66,
   "metadata": {},
   "outputs": [
    {
     "name": "stdout",
     "output_type": "stream",
     "text": [
      "True\n",
      "False\n",
      "[5, 4]\n",
      "[4]\n",
      "1\n",
      "['dog', 4]\n",
      "2\n",
      "dog\n"
     ]
    }
   ],
   "source": [
    "'''\n",
    "Implementing Stack in Python\n",
    "'''\n",
    "\n",
    "class Stack():\n",
    "    def __init__(self):\n",
    "        self.items = []\n",
    "    def push(self,item):\n",
    "        self.items.insert(0,item)\n",
    "    def pop(self):\n",
    "        return self.items.pop(0)\n",
    "    def peek(self):\n",
    "        return self.items[0]\n",
    "    def is_empty(self):\n",
    "        return self.items == []\n",
    "    def size(self):\n",
    "        return len(self.items)\n",
    "    def show(self):\n",
    "        return self.items\n",
    "A=Stack()\n",
    "print(A.is_empty())\n",
    "A.push(4)\n",
    "A.push(5)\n",
    "print(A.is_empty())\n",
    "print(A.show())\n",
    "A.pop()\n",
    "print(A.show())\n",
    "print(A.size())\n",
    "A.push('dog')\n",
    "print(A.show())\n",
    "print(A.size())\n",
    "print(A.peek())"
   ]
  },
  {
   "cell_type": "code",
   "execution_count": 28,
   "metadata": {},
   "outputs": [
    {
     "name": "stdout",
     "output_type": "stream",
     "text": [
      "['r', 'i', 'm', 'a', 'S', ' ', 'a', 'n', 'i', 'M']\n"
     ]
    }
   ],
   "source": [
    "def rev_string(my_str):\n",
    "    temp = Stack()\n",
    "    for i in my_str:\n",
    "        temp.push(i)\n",
    "    print(temp.show())\n",
    "\n",
    "rev_string(\"Mina Samir\")"
   ]
  },
  {
   "cell_type": "code",
   "execution_count": 44,
   "metadata": {},
   "outputs": [
    {
     "data": {
      "text/plain": [
       "False"
      ]
     },
     "execution_count": 44,
     "metadata": {},
     "output_type": "execute_result"
    }
   ],
   "source": [
    "def Check_Brackets(string):\n",
    "    temp = Stack()\n",
    "    for i in range(len(string)):\n",
    "        if(string[i]==\"(\"):\n",
    "            temp.push(string[i])\n",
    "        else:\n",
    "            if(temp.is_empty()):\n",
    "                return False\n",
    "            else:\n",
    "                temp.pop()\n",
    "    return(temp.is_empty())\n",
    "\n",
    "Check_Brackets('(((((((())))))))))))))')"
   ]
  },
  {
   "cell_type": "code",
   "execution_count": 37,
   "metadata": {},
   "outputs": [
    {
     "name": "stdout",
     "output_type": "stream",
     "text": [
      "False\n",
      "False\n"
     ]
    }
   ],
   "source": [
    "def parChecker(symbolString):\n",
    "    s = Stack()\n",
    "    balanced = True\n",
    "    index = 0\n",
    "    while index < len(symbolString) and balanced:\n",
    "        symbol = symbolString[index]\n",
    "        if symbol == \"(\":\n",
    "            s.push(symbol)\n",
    "        else:\n",
    "            if s.is_empty():\n",
    "                balanced = False\n",
    "            else:\n",
    "                s.pop()\n",
    "\n",
    "        index = index + 1\n",
    "\n",
    "    if balanced and s.is_empty():\n",
    "        return True\n",
    "    else:\n",
    "        return False\n",
    "print(parChecker('((())))))))))))'))\n",
    "print(parChecker('(()'))"
   ]
  },
  {
   "cell_type": "code",
   "execution_count": 71,
   "metadata": {},
   "outputs": [
    {
     "data": {
      "text/plain": [
       "False"
      ]
     },
     "execution_count": 71,
     "metadata": {},
     "output_type": "execute_result"
    }
   ],
   "source": [
    "def Check_Brackets_extended(string):\n",
    "    temp = Stack()\n",
    "    for i in range(len(string)):\n",
    "        if(string[i] in \"({[\"):\n",
    "            temp.push(string[i])\n",
    "        else:\n",
    "            if(temp.is_empty()):\n",
    "                return False\n",
    "            else:\n",
    "                top = temp.pop()\n",
    "                value = string[i]\n",
    "                if not matches(top,value):\n",
    "                    return False\n",
    "    return(temp.is_empty())\n",
    "\n",
    "def matches(opened,closed):\n",
    "    opens = \"({[\"\n",
    "    closes = \")}]\"\n",
    "    return opens.index(opened) == closes.index(closed)\n",
    "\n",
    "Check_Brackets_extended('([)]')"
   ]
  },
  {
   "cell_type": "code",
   "execution_count": 56,
   "metadata": {},
   "outputs": [
    {
     "ename": "ImportError",
     "evalue": "No module named 'pythonds'",
     "output_type": "error",
     "traceback": [
      "\u001b[1;31m---------------------------------------------------------------------------\u001b[0m",
      "\u001b[1;31mImportError\u001b[0m                               Traceback (most recent call last)",
      "\u001b[1;32m<ipython-input-56-e4d67f236bbd>\u001b[0m in \u001b[0;36m<module>\u001b[1;34m()\u001b[0m\n\u001b[1;32m----> 1\u001b[1;33m \u001b[1;32mfrom\u001b[0m \u001b[0mpythonds\u001b[0m\u001b[1;33m.\u001b[0m\u001b[0mbasic\u001b[0m\u001b[1;33m.\u001b[0m\u001b[0mstack\u001b[0m \u001b[1;32mimport\u001b[0m \u001b[0mStack\u001b[0m\u001b[1;33m\u001b[0m\u001b[0m\n\u001b[0m\u001b[0;32m      2\u001b[0m \u001b[1;33m\u001b[0m\u001b[0m\n\u001b[0;32m      3\u001b[0m \u001b[1;32mdef\u001b[0m \u001b[0mparChecker\u001b[0m\u001b[1;33m(\u001b[0m\u001b[0msymbolString\u001b[0m\u001b[1;33m)\u001b[0m\u001b[1;33m:\u001b[0m\u001b[1;33m\u001b[0m\u001b[0m\n\u001b[0;32m      4\u001b[0m     \u001b[0ms\u001b[0m \u001b[1;33m=\u001b[0m \u001b[0mStack\u001b[0m\u001b[1;33m(\u001b[0m\u001b[1;33m)\u001b[0m\u001b[1;33m\u001b[0m\u001b[0m\n\u001b[0;32m      5\u001b[0m     \u001b[0mbalanced\u001b[0m \u001b[1;33m=\u001b[0m \u001b[1;32mTrue\u001b[0m\u001b[1;33m\u001b[0m\u001b[0m\n",
      "\u001b[1;31mImportError\u001b[0m: No module named 'pythonds'"
     ]
    }
   ],
   "source": [
    "from pythonds.basic.stack import Stack\n",
    "\n",
    "def parChecker(symbolString):\n",
    "    s = Stack()\n",
    "    balanced = True\n",
    "    index = 0\n",
    "    while index < len(symbolString) and balanced:\n",
    "        symbol = symbolString[index]\n",
    "        if symbol in \"([{\":\n",
    "            s.push(symbol)\n",
    "        else:\n",
    "            if s.isEmpty():\n",
    "                balanced = False\n",
    "            else:\n",
    "                top = s.pop()\n",
    "                if not matches(top,symbol):\n",
    "                       balanced = False\n",
    "        index = index + 1\n",
    "    if balanced and s.isEmpty():\n",
    "        return True\n",
    "    else:\n",
    "        return False\n",
    "\n",
    "def matches(open,close):\n",
    "    opens = \"([{\"\n",
    "    closers = \")]}\"\n",
    "    return opens.index(open) == closers.index(close)\n",
    "\n",
    "\n",
    "print(parChecker('{{([][])}()}'))\n",
    "print(parChecker('[{()]'))\n"
   ]
  },
  {
   "cell_type": "code",
   "execution_count": 69,
   "metadata": {},
   "outputs": [
    {
     "name": "stdout",
     "output_type": "stream",
     "text": [
      "True\n",
      "False\n"
     ]
    }
   ],
   "source": [
    "def parChecker(symbolString):\n",
    "    s = Stack()\n",
    "    balanced = True\n",
    "    index = 0\n",
    "    while index < len(symbolString) and balanced:\n",
    "        symbol = symbolString[index]\n",
    "        if symbol in \"([{\":\n",
    "            s.push(symbol)\n",
    "        else:\n",
    "            if s.is_empty():\n",
    "                balanced = False\n",
    "            else:\n",
    "                top = s.pop()\n",
    "                if not matches(top,symbol):\n",
    "                       balanced = False\n",
    "        index = index + 1\n",
    "    if balanced and s.is_empty():\n",
    "        return True\n",
    "    else:\n",
    "        return False\n",
    "\n",
    "def matches(open,close):\n",
    "    opens = \"([{\"\n",
    "    closers = \")]}\"\n",
    "    return opens.index(open) == closers.index(close)\n",
    "\n",
    "print(parChecker('{{([][])}()}'))\n",
    "print(parChecker('[{()]'))"
   ]
  },
  {
   "cell_type": "code",
   "execution_count": 72,
   "metadata": {},
   "outputs": [
    {
     "name": "stdout",
     "output_type": "stream",
     "text": [
      "11101001\n"
     ]
    }
   ],
   "source": [
    "'''\n",
    "Decimal to Bin Converter\n",
    "'''\n",
    "\n",
    "def decimal_to_bin(num):\n",
    "    rem_stack = Stack()\n",
    "    \n",
    "    while num > 0:\n",
    "        rem = num % 2\n",
    "        rem_stack.push(rem)\n",
    "        num = num // 2\n",
    "    binary_num = \"\"\n",
    "    while not (rem_stack.is_empty()):\n",
    "        binary_num = binary_num + str(rem_stack.pop())\n",
    "    return binary_num\n",
    "\n",
    "print(decimal_to_bin(233))"
   ]
  },
  {
   "cell_type": "code",
   "execution_count": 79,
   "metadata": {},
   "outputs": [
    {
     "name": "stdout",
     "output_type": "stream",
     "text": [
      "11101001\n"
     ]
    }
   ],
   "source": [
    "'''\n",
    "Decimal to Any Base Converter\n",
    "'''\n",
    "\n",
    "def decimal_to_bin(num,base):\n",
    "    rem_stack = Stack()\n",
    "    hexaNotation=\"0123456789ABCDEF\"\n",
    "    while num > 0:\n",
    "        rem = num % base\n",
    "        rem_stack.push(rem)\n",
    "        num = num // base\n",
    "    converted_num = \"\"\n",
    "    while not (rem_stack.is_empty()):\n",
    "        if(base == 16):\n",
    "            converted_num = converted_num + str(hexaNotation[int(rem_stack.pop())])\n",
    "        else:\n",
    "            converted_num = converted_num + str(rem_stack.pop())\n",
    "    return converted_num\n",
    "\n",
    "print(decimal_to_bin(233,2))"
   ]
  },
  {
   "cell_type": "code",
   "execution_count": 87,
   "metadata": {},
   "outputs": [
    {
     "name": "stdout",
     "output_type": "stream",
     "text": [
      "10\n"
     ]
    }
   ],
   "source": [
    "'''\n",
    "Decimal to Any Base Converter using lists\n",
    "'''\n",
    "\n",
    "def decimal_to_bin(num,base):\n",
    "    rem_stack = []\n",
    "    hexaNotation=\"0123456789ABCDEF\"\n",
    "    while num > 0:\n",
    "        rem = num % base\n",
    "        rem_stack.append(rem)\n",
    "        num = num // base\n",
    "    converted_num = \"\"\n",
    "    while not (len(rem_stack)==0):\n",
    "        converted_num = converted_num + str(hexaNotation[int(rem_stack.pop())])\n",
    "    return converted_num\n",
    "\n",
    "print(decimal_to_bin(26,26))"
   ]
  },
  {
   "cell_type": "code",
   "execution_count": 91,
   "metadata": {},
   "outputs": [
    {
     "name": "stdout",
     "output_type": "stream",
     "text": [
      "28\n"
     ]
    }
   ],
   "source": [
    "arr = [1,3,1,3,1,4,1,3,2,5,5,5,5,5,5,5,5,5,5,5,5,5,5,5,5,7]\n",
    "string = \"zaba\"\n",
    "temp = []\n",
    "for i in string:\n",
    "    temp.append(arr[ord(i)-ord('a')])\n",
    "print(max(temp)*len(temp))"
   ]
  },
  {
   "cell_type": "code",
   "execution_count": 104,
   "metadata": {},
   "outputs": [
    {
     "name": "stdout",
     "output_type": "stream",
     "text": [
      "(5, 7)\n"
     ]
    }
   ],
   "source": [
    "'''\n",
    "Prime pairs sum to Target\n",
    "'''\n",
    "\n",
    "def is_prime(n):\n",
    "    for i in range(3, n):\n",
    "        if n % i == 0:\n",
    "            return False\n",
    "    return True\n",
    "\n",
    "def prime_pair_sum(target):\n",
    "    arr = list(range(2,target+1))\n",
    "    for i in range(len(arr)):\n",
    "        if(is_prime(arr[i]) and ((target-arr[i]) in arr) and is_prime(target-arr[i])):\n",
    "            return (arr[i],target-arr[i])\n",
    "    return False\n",
    "\n",
    "print(prime_pair_sum(12))\n",
    "            "
   ]
  },
  {
   "cell_type": "code",
   "execution_count": 115,
   "metadata": {},
   "outputs": [
    {
     "name": "stdout",
     "output_type": "stream",
     "text": [
      "<__main__.Queue object at 0x0000000004CD9CF8>\n",
      "[]\n",
      "True\n",
      "[10]\n",
      "['Baby', 10]\n",
      "['True', 'Baby', 10]\n",
      "3\n",
      "10\n",
      "['True', 'Baby']\n",
      "2\n"
     ]
    }
   ],
   "source": [
    "'''\n",
    "Implementing Queues in Python\n",
    "'''\n",
    "\n",
    "class Queue():\n",
    "    def __init__(self):\n",
    "        self.items = []\n",
    "    def is_empty(self):\n",
    "        return (self.items == [])\n",
    "    def enqueue(self,n):\n",
    "        return (self.items.insert(0,n))\n",
    "    def size(self):\n",
    "        return(len(self.items))\n",
    "    def show(self):\n",
    "        return(self.items)\n",
    "    def dequeue(self):\n",
    "        return (self.items.pop())\n",
    "\n",
    "Q = Queue()\n",
    "print(Q)\n",
    "print(Q.show())\n",
    "print(Q.is_empty())\n",
    "Q.enqueue(10)\n",
    "print(Q.show())\n",
    "Q.enqueue('Baby')\n",
    "print(Q.show())\n",
    "Q.enqueue('True')\n",
    "print(Q.show())\n",
    "print(Q.size())\n",
    "print(Q.dequeue())\n",
    "print(Q.show())\n",
    "print(Q.size())"
   ]
  },
  {
   "cell_type": "code",
   "execution_count": 89,
   "metadata": {},
   "outputs": [
    {
     "name": "stdout",
     "output_type": "stream",
     "text": [
      "[6, 4, 2, 1]\n"
     ]
    }
   ],
   "source": [
    "'''\n",
    "Dense Ranking\n",
    "'''\n",
    "def dense_rank(A):\n",
    "    rank = [1,]\n",
    "    i = 1\n",
    "    j = 0\n",
    "    while i < len(A):\n",
    "        if(A[i]==A[i-1]):\n",
    "            rank.append(rank[j])\n",
    "        elif(A[i]<A[i-1]):\n",
    "            rank.append(rank[j]+1)\n",
    "        i +=1\n",
    "        j +=1\n",
    "    return(list(rank))\n",
    "\n",
    "var = [100,100,50,40,40,20,10]\n",
    "myScores = [5,25,50,120]\n",
    "myProgress = []\n",
    "for i in myScores:\n",
    "    var.append(i)\n",
    "    Leaderboard = sorted(var,reverse=True) \n",
    "    Rankings = list(dense_rank(Leaderboard))\n",
    "    myProgress.append(Rankings[Leaderboard.index(i)])\n",
    "    var.pop()\n",
    "print(myProgress)    \n",
    "    \n",
    "\n",
    "\n"
   ]
  },
  {
   "cell_type": "code",
   "execution_count": 93,
   "metadata": {},
   "outputs": [
    {
     "name": "stdout",
     "output_type": "stream",
     "text": [
      "True\n",
      "0\n",
      "False\n",
      "2\n",
      "['Micahel', 'Mina']\n",
      "['Micahel', 'Mina', '4.4', 'True']\n",
      "['Mina', '4.4']\n"
     ]
    }
   ],
   "source": [
    "'''\n",
    "Impementing Double Ended Queue\n",
    "'''\n",
    "class dequeue():\n",
    "    def __init__(self):\n",
    "        self.items = []\n",
    "    def is_empty(self):\n",
    "        return(self.items == [])\n",
    "    def add_rear(self,value):\n",
    "        return(self.items.insert(0,value))\n",
    "    def add_front(self,value):\n",
    "        return(self.items.append(value))\n",
    "    def size(self):\n",
    "        return(len(self.items))\n",
    "    def remove_rear(self):\n",
    "        return(self.items.pop(0))\n",
    "    def remove_front(self):\n",
    "        return(self.items.pop())\n",
    "    def show(self):\n",
    "        return(self.items)\n",
    "myD = dequeue()\n",
    "print(myD.is_empty())\n",
    "print(myD.size())\n",
    "myD.add_rear('Mina')\n",
    "myD.add_rear('Micahel')\n",
    "print(myD.is_empty())\n",
    "print(myD.size())\n",
    "print(myD.show())\n",
    "myD.add_front('4.4')\n",
    "myD.add_front('True')\n",
    "print(myD.show())\n",
    "myD.remove_front()\n",
    "myD.remove_rear()\n",
    "print(myD.show())"
   ]
  },
  {
   "cell_type": "code",
   "execution_count": 103,
   "metadata": {},
   "outputs": [
    {
     "data": {
      "text/plain": [
       "True"
      ]
     },
     "execution_count": 103,
     "metadata": {},
     "output_type": "execute_result"
    }
   ],
   "source": [
    "def plaindrome(string):\n",
    "    myD = dequeue()\n",
    "    for char in string:\n",
    "        myD.add_rear(char)\n",
    "    for i in (range(len(string)-1)):\n",
    "        if not(string[i]==myD.show()[i]):\n",
    "              return False\n",
    "    return True\n",
    "plaindrome('radar')"
   ]
  },
  {
   "cell_type": "code",
   "execution_count": 168,
   "metadata": {},
   "outputs": [
    {
     "ename": "AttributeError",
     "evalue": "'int' object has no attribute 'next'",
     "output_type": "error",
     "traceback": [
      "\u001b[1;31m---------------------------------------------------------------------------\u001b[0m",
      "\u001b[1;31mAttributeError\u001b[0m                            Traceback (most recent call last)",
      "\u001b[1;32m<ipython-input-168-e4c9675496d1>\u001b[0m in \u001b[0;36m<module>\u001b[1;34m()\u001b[0m\n\u001b[0;32m     86\u001b[0m \u001b[0mmyList\u001b[0m\u001b[1;33m.\u001b[0m\u001b[0madd\u001b[0m\u001b[1;33m(\u001b[0m\u001b[1;36m43\u001b[0m\u001b[1;33m)\u001b[0m\u001b[1;33m\u001b[0m\u001b[0m\n\u001b[0;32m     87\u001b[0m \u001b[0mmyList\u001b[0m\u001b[1;33m.\u001b[0m\u001b[0madd\u001b[0m\u001b[1;33m(\u001b[0m\u001b[1;36m430\u001b[0m\u001b[1;33m)\u001b[0m\u001b[1;33m\u001b[0m\u001b[0m\n\u001b[1;32m---> 88\u001b[1;33m \u001b[0mmyList\u001b[0m\u001b[1;33m.\u001b[0m\u001b[0mappendafter\u001b[0m\u001b[1;33m(\u001b[0m\u001b[1;36m4\u001b[0m\u001b[1;33m,\u001b[0m\u001b[1;36m122200\u001b[0m\u001b[1;33m)\u001b[0m\u001b[1;33m\u001b[0m\u001b[0m\n\u001b[0m\u001b[0;32m     89\u001b[0m \u001b[0mmyList\u001b[0m\u001b[1;33m.\u001b[0m\u001b[0madd\u001b[0m\u001b[1;33m(\u001b[0m\u001b[1;36m20\u001b[0m\u001b[1;33m)\u001b[0m\u001b[1;33m\u001b[0m\u001b[0m\n\u001b[0;32m     90\u001b[0m \u001b[1;33m\u001b[0m\u001b[0m\n",
      "\u001b[1;32m<ipython-input-168-e4c9675496d1>\u001b[0m in \u001b[0;36mappendafter\u001b[1;34m(self, prev, item)\u001b[0m\n\u001b[0;32m     31\u001b[0m         \u001b[0mnew_node\u001b[0m \u001b[1;33m=\u001b[0m \u001b[0mNode\u001b[0m\u001b[1;33m(\u001b[0m\u001b[1;33m)\u001b[0m\u001b[1;33m\u001b[0m\u001b[0m\n\u001b[0;32m     32\u001b[0m         \u001b[0mnew_node\u001b[0m\u001b[1;33m.\u001b[0m\u001b[0mdata\u001b[0m \u001b[1;33m=\u001b[0m \u001b[0mitem\u001b[0m\u001b[1;33m\u001b[0m\u001b[0m\n\u001b[1;32m---> 33\u001b[1;33m         \u001b[0mnew_node\u001b[0m\u001b[1;33m.\u001b[0m\u001b[0mnext\u001b[0m \u001b[1;33m=\u001b[0m \u001b[0mprev\u001b[0m\u001b[1;33m.\u001b[0m\u001b[0mnext\u001b[0m\u001b[1;33m\u001b[0m\u001b[0m\n\u001b[0m\u001b[0;32m     34\u001b[0m         \u001b[0mprev\u001b[0m\u001b[1;33m.\u001b[0m\u001b[0mnext\u001b[0m \u001b[1;33m=\u001b[0m \u001b[0mnew_node\u001b[0m\u001b[1;33m\u001b[0m\u001b[0m\n\u001b[0;32m     35\u001b[0m \u001b[1;33m\u001b[0m\u001b[0m\n",
      "\u001b[1;31mAttributeError\u001b[0m: 'int' object has no attribute 'next'"
     ]
    }
   ],
   "source": [
    "'''\n",
    "Linked Lists Whohoooo\n",
    "'''\n",
    "\n",
    "class Node():\n",
    "    def __init__(self):\n",
    "        self.data = None\n",
    "        self.next = None\n",
    "    def get_data(self):\n",
    "        return(self.data)\n",
    "    def get_next(self):\n",
    "        return(self.next)\n",
    "    def set_data(self,new_data):\n",
    "        self.data = new_data\n",
    "    def set_next(self,new_next):\n",
    "        self.next = new_next\n",
    "\n",
    "class linked_list():\n",
    "    def __init__(self):\n",
    "        self.head = None\n",
    "\n",
    "    def add(self, data):\n",
    "        new_node = Node() # create a new node\n",
    "        new_node.data = data\n",
    "        new_node.next = self.head # link the new node to the 'previous' node.\n",
    "        self.head = new_node #  set the current node to the new one.\n",
    "\n",
    "    def appendafter(self,prev,item):\n",
    "        if prev == None:\n",
    "            return(\"Sorry the Previous Element is not found in the List\")\n",
    "        new_node = Node()\n",
    "        new_node.data = item\n",
    "        new_node.next = prev.next\n",
    "        prev.next = new_node         \n",
    "\n",
    "    def remove(self,item):\n",
    "        node = self.head\n",
    "        prev = None\n",
    "        found = False\n",
    "        while not found:\n",
    "            if(node.data == item):\n",
    "                found = True\n",
    "            else:\n",
    "                prev = node\n",
    "                node = node.next\n",
    "        if prev == None:\n",
    "            node.head = node.next\n",
    "        else:\n",
    "            prev.next=node.next\n",
    "            \n",
    "    def list_print(self):\n",
    "        node = self.head # cant point to ll!\n",
    "        disp = []\n",
    "        while node:\n",
    "            disp.append(node.data)\n",
    "            node = node.next\n",
    "        print(\"->\".join(str(p) for p in disp))\n",
    "            \n",
    "    def clear(self):\n",
    "        self.__init__()\n",
    "\n",
    "    def size(self):\n",
    "        counter = 0\n",
    "        node = self.head\n",
    "        while node:\n",
    "            counter +=1\n",
    "            node = node.next\n",
    "        return(counter)\n",
    "    \n",
    "    def search(self,item):\n",
    "        node = self.head\n",
    "        while node:\n",
    "            if(node.data == item):\n",
    "                return True\n",
    "            else:\n",
    "                node = node.next\n",
    "        return False\n",
    "\n",
    "\n",
    "myList = linked_list()\n",
    "\n",
    "myList.add(1)\n",
    "myList.add(2)\n",
    "myList.add(3)\n",
    "myList.add(10)\n",
    "myList.add(43)\n",
    "myList.add(430)\n",
    "myList.appendafter(4,122200)\n",
    "myList.add(20)\n",
    "\n",
    "\n",
    "print(myList.search(430))\n",
    "\n",
    "print(myList.size())\n",
    "myList.list_print()"
   ]
  },
  {
   "cell_type": "code",
   "execution_count": 175,
   "metadata": {},
   "outputs": [
    {
     "name": "stdout",
     "output_type": "stream",
     "text": [
      "Created linked list is:\n",
      "1\n",
      "7\n",
      "8\n",
      "6\n",
      "4\n"
     ]
    }
   ],
   "source": [
    "# A complete working Python program to demonstrate all\n",
    "# insertion methods of linked list\n",
    " \n",
    "# Node class\n",
    "class Node:\n",
    " \n",
    "    # Function to initialise the node object\n",
    "    def __init__(self, data):\n",
    "        self.data = data  # Assign data\n",
    "        self.next = None  # Initialize next as null\n",
    " \n",
    " \n",
    "# Linked List class contains a Node object\n",
    "class LinkedList:\n",
    " \n",
    "    # Function to initialize head\n",
    "    def __init__(self):\n",
    "        self.head = None\n",
    " \n",
    " \n",
    "    # Functio to insert a new node at the beginning\n",
    "    def push(self, new_data):\n",
    " \n",
    "        # 1 & 2: Allocate the Node &\n",
    "        #        Put in the data\n",
    "        new_node = Node(new_data)\n",
    " \n",
    "        # 3. Make next of new Node as head\n",
    "        new_node.next = self.head\n",
    " \n",
    "        # 4. Move the head to point to new Node\n",
    "        self.head = new_node\n",
    " \n",
    " \n",
    "    # This function is in LinkedList class. Inserts a\n",
    "    # new node after the given prev_node. This method is\n",
    "    # defined inside LinkedList class shown above */\n",
    "    def insertAfter(self, prev_node, new_data):\n",
    " \n",
    "        # 1. check if the given prev_node exists\n",
    "        if prev_node is None:\n",
    "            print(\"The given previous node must inLinkedList.\")\n",
    "            return\n",
    " \n",
    "        #  2. create new node &\n",
    "        #      Put in the data\n",
    "        new_node = Node(new_data)\n",
    " \n",
    "        # 4. Make next of new Node as next of prev_node\n",
    "        new_node.next = prev_node.next\n",
    " \n",
    "        # 5. make next of prev_node as new_node\n",
    "        prev_node.next = new_node\n",
    " \n",
    " \n",
    "    # This function is defined in Linked List class\n",
    "    # Appends a new node at the end.  This method is\n",
    "    # defined inside LinkedList class shown above */\n",
    "    def append(self, new_data):\n",
    " \n",
    "        # 1. Create a new node\n",
    "        # 2. Put in the data\n",
    "        # 3. Set next as None\n",
    "        new_node = Node(new_data)\n",
    " \n",
    "        # 4. If the Linked List is empty, then make the\n",
    "        #    new node as head\n",
    "        if self.head is None:\n",
    "            self.head = new_node\n",
    "            return\n",
    " \n",
    "        # 5. Else traverse till the last node\n",
    "        last = self.head\n",
    "        while (last.next):\n",
    "            last = last.next\n",
    " \n",
    "        # 6. Change the next of last node\n",
    "        last.next =  new_node\n",
    " \n",
    " \n",
    "    # Utility function to print the linked list\n",
    "    def printList(self):\n",
    "        temp = self.head\n",
    "        while (temp):\n",
    "            print (temp.data),\n",
    "            temp = temp.next\n",
    " \n",
    " \n",
    " \n",
    "# Code execution starts here\n",
    "if __name__=='__main__':\n",
    " \n",
    "    # Start with the empty list\n",
    "    llist = LinkedList()\n",
    " \n",
    "    # Insert 6.  So linked list becomes 6->None\n",
    "    llist.append(6)\n",
    " \n",
    "    # Insert 7 at the beginning. So linked list becomes 7->6->None\n",
    "    llist.push(7);\n",
    " \n",
    "    # Insert 1 at the beginning. So linked list becomes 1->7->6->None\n",
    "    llist.push(1);\n",
    " \n",
    "    # Insert 4 at the end. So linked list becomes 1->7->6->4->None\n",
    "    llist.append(4)\n",
    " \n",
    "    # Insert 8, after 7. So linked list becomes 1 -> 7-> 8-> 6-> 4-> None\n",
    "    llist.insertAfter(llist.head.next, 8)\n",
    " \n",
    "    print ('Created linked list is:'),\n",
    "    llist.printList()\n",
    " \n",
    "# This code is contributed by Manikantan Narasimhan"
   ]
  },
  {
   "cell_type": "code",
   "execution_count": 193,
   "metadata": {},
   "outputs": [
    {
     "name": "stdout",
     "output_type": "stream",
     "text": [
      "6\n",
      "True\n",
      "False\n",
      "2->26->31->54->77->93\n"
     ]
    }
   ],
   "source": [
    "class Node:\n",
    "    def __init__(self,initdata):\n",
    "        self.data = initdata\n",
    "        self.next = None\n",
    "\n",
    "    def getData(self):\n",
    "        return self.data\n",
    "\n",
    "    def getNext(self):\n",
    "        return self.next\n",
    "\n",
    "    def setData(self,newdata):\n",
    "        self.data = newdata\n",
    "\n",
    "    def setNext(self,newnext):\n",
    "        self.next = newnext\n",
    "\n",
    "\n",
    "class OrderedList:\n",
    "    def __init__(self):\n",
    "        self.head = None\n",
    "\n",
    "    def search(self,item):\n",
    "        current = self.head\n",
    "        found = False\n",
    "        stop = False\n",
    "        while current != None and not found and not stop:\n",
    "            if current.getData() == item:\n",
    "                found = True\n",
    "            else:\n",
    "                if current.getData() > item:\n",
    "                    stop = True\n",
    "                else:\n",
    "                    current = current.getNext()\n",
    "\n",
    "        return found\n",
    "\n",
    "    def add(self,item):\n",
    "        current = self.head\n",
    "        previous = None\n",
    "        stop = False\n",
    "        while current != None and not stop:\n",
    "            if current.data > item:\n",
    "                stop = True\n",
    "            else:\n",
    "                previous = current\n",
    "                current = current.next\n",
    "\n",
    "        temp = Node(item)\n",
    "        if previous == None:\n",
    "            temp.next = self.head\n",
    "            self.head = temp\n",
    "        else:\n",
    "            temp.next = current\n",
    "            previous.next = temp\n",
    "\n",
    "    def isEmpty(self):\n",
    "        return self.head == None\n",
    "\n",
    "    def size(self):\n",
    "        current = self.head\n",
    "        count = 0\n",
    "        while current != None:\n",
    "            count = count + 1\n",
    "            current = current.next\n",
    "\n",
    "        return count\n",
    "\n",
    "    def display(self):\n",
    "        current = self.head\n",
    "        disp = []\n",
    "        while (current):\n",
    "            disp.append(current.data)\n",
    "            current = current.next\n",
    "        return(\"->\".join(str(c) for c in disp))\n",
    "    \n",
    "    def remove(self,item):\n",
    "        current = self.head\n",
    "        previous = None\n",
    "        foundFlag = False\n",
    "        while not foundFlag:\n",
    "            if(current.data == item):\n",
    "                foundFlag = True\n",
    "            else:\n",
    "                previous = current\n",
    "                current = current.next\n",
    "        if(previous == None):\n",
    "            self.head = current.next\n",
    "        else:\n",
    "            previous.next = current.next           \n",
    "            \n",
    "\n",
    "mylist = OrderedList()\n",
    "mylist.add(31)\n",
    "mylist.add(77)\n",
    "mylist.add(17)\n",
    "mylist.add(93)\n",
    "mylist.add(26)\n",
    "mylist.add(54)\n",
    "mylist.remove(17)\n",
    "mylist.add(2)\n",
    "\n",
    "print(mylist.size())\n",
    "print(mylist.search(93))\n",
    "print(mylist.search(100))\n",
    "print(mylist.display())\n"
   ]
  },
  {
   "cell_type": "code",
   "execution_count": null,
   "metadata": {},
   "outputs": [],
   "source": []
  }
 ],
 "metadata": {
  "kernelspec": {
   "display_name": "Python 3",
   "language": "python",
   "name": "python3"
  },
  "language_info": {
   "codemirror_mode": {
    "name": "ipython",
    "version": 3
   },
   "file_extension": ".py",
   "mimetype": "text/x-python",
   "name": "python",
   "nbconvert_exporter": "python",
   "pygments_lexer": "ipython3",
   "version": "3.5.5"
  }
 },
 "nbformat": 4,
 "nbformat_minor": 2
}
