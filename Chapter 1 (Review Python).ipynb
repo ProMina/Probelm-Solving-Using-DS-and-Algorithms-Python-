{
 "cells": [
  {
   "cell_type": "markdown",
   "metadata": {},
   "source": [
    "Reviewing Python Programming"
   ]
  },
  {
   "cell_type": "code",
   "execution_count": 1,
   "metadata": {},
   "outputs": [
    {
     "data": {
      "text/plain": [
       "0.5"
      ]
     },
     "execution_count": 1,
     "metadata": {},
     "output_type": "execute_result"
    }
   ],
   "source": [
    "3/6"
   ]
  },
  {
   "cell_type": "code",
   "execution_count": 2,
   "metadata": {},
   "outputs": [
    {
     "data": {
      "text/plain": [
       "0"
      ]
     },
     "execution_count": 2,
     "metadata": {},
     "output_type": "execute_result"
    }
   ],
   "source": [
    "3//6"
   ]
  },
  {
   "cell_type": "code",
   "execution_count": 3,
   "metadata": {},
   "outputs": [
    {
     "data": {
      "text/plain": [
       "2.0"
      ]
     },
     "execution_count": 3,
     "metadata": {},
     "output_type": "execute_result"
    }
   ],
   "source": [
    "6/3"
   ]
  },
  {
   "cell_type": "code",
   "execution_count": 4,
   "metadata": {},
   "outputs": [
    {
     "data": {
      "text/plain": [
       "2"
      ]
     },
     "execution_count": 4,
     "metadata": {},
     "output_type": "execute_result"
    }
   ],
   "source": [
    "6//3 # Integer division"
   ]
  },
  {
   "cell_type": "code",
   "execution_count": 5,
   "metadata": {},
   "outputs": [
    {
     "data": {
      "text/plain": [
       "1"
      ]
     },
     "execution_count": 5,
     "metadata": {},
     "output_type": "execute_result"
    }
   ],
   "source": [
    "3//2"
   ]
  },
  {
   "cell_type": "code",
   "execution_count": 6,
   "metadata": {},
   "outputs": [
    {
     "data": {
      "text/plain": [
       "1.5"
      ]
     },
     "execution_count": 6,
     "metadata": {},
     "output_type": "execute_result"
    }
   ],
   "source": [
    "3/2"
   ]
  },
  {
   "cell_type": "code",
   "execution_count": 7,
   "metadata": {},
   "outputs": [
    {
     "name": "stdout",
     "output_type": "stream",
     "text": [
      "1267650600228229401496703205376\n"
     ]
    }
   ],
   "source": [
    "print (2**100)"
   ]
  },
  {
   "cell_type": "code",
   "execution_count": 9,
   "metadata": {},
   "outputs": [
    {
     "data": {
      "text/plain": [
       "True"
      ]
     },
     "execution_count": 9,
     "metadata": {},
     "output_type": "execute_result"
    }
   ],
   "source": [
    "True"
   ]
  },
  {
   "cell_type": "code",
   "execution_count": 12,
   "metadata": {},
   "outputs": [
    {
     "name": "stdout",
     "output_type": "stream",
     "text": [
      "True\n"
     ]
    }
   ],
   "source": [
    "print (10>1)"
   ]
  },
  {
   "cell_type": "code",
   "execution_count": 16,
   "metadata": {},
   "outputs": [],
   "source": [
    "varA=[1,2,\"Mina\",True,3.2] # lists can contain refrence to different object classes\n",
    "varB=[2,1,\"Michael\"]"
   ]
  },
  {
   "cell_type": "code",
   "execution_count": 25,
   "metadata": {},
   "outputs": [
    {
     "name": "stdout",
     "output_type": "stream",
     "text": [
      "[1, 2, 'Mina', True, 3.2, 1]\n"
     ]
    }
   ],
   "source": [
    "varC=(varA * 2) +varB\n",
    "print (varC[:len(varC)//2])"
   ]
  },
  {
   "cell_type": "code",
   "execution_count": 53,
   "metadata": {},
   "outputs": [
    {
     "name": "stdout",
     "output_type": "stream",
     "text": [
      "[1, 2, 45, 4, 1, 2, 3, 4, 1, 2, 3, 4, 1, 2, 3, 4]\n"
     ]
    }
   ],
   "source": [
    "my_list=[1,2,3,4]\n",
    "A=my_list * 4\n",
    "A[2]=45\n",
    "print(A)"
   ]
  },
  {
   "cell_type": "code",
   "execution_count": 32,
   "metadata": {},
   "outputs": [
    {
     "data": {
      "text/plain": [
       "4"
      ]
     },
     "execution_count": 32,
     "metadata": {},
     "output_type": "execute_result"
    }
   ],
   "source": [
    "A.pop()"
   ]
  },
  {
   "cell_type": "code",
   "execution_count": 56,
   "metadata": {},
   "outputs": [
    {
     "name": "stdout",
     "output_type": "stream",
     "text": [
      "[4, 3, 2, 1, 4, 3, 2, 1, 4, 3, 2, 1, 4, 45, 2, 1]\n"
     ]
    }
   ],
   "source": [
    "B=A[::-1]\n",
    "print(B)"
   ]
  },
  {
   "cell_type": "code",
   "execution_count": 41,
   "metadata": {},
   "outputs": [
    {
     "name": "stdout",
     "output_type": "stream",
     "text": [
      "[0, 0, 0]\n",
      "[0, 0]\n",
      "[0]\n",
      "[]\n"
     ]
    }
   ],
   "source": [
    "A=[0]*4\n",
    "for i in range(len(A)):\n",
    "    A.pop()\n",
    "    print(A)"
   ]
  },
  {
   "cell_type": "code",
   "execution_count": 57,
   "metadata": {},
   "outputs": [
    {
     "name": "stdout",
     "output_type": "stream",
     "text": [
      "[1024, 3, 4.5, True, 6.5]\n"
     ]
    }
   ],
   "source": [
    "my_arr=[1024,3,True,6.5]\n",
    "my_arr.insert(2,4.5)\n",
    "print(my_arr)"
   ]
  },
  {
   "cell_type": "code",
   "execution_count": 59,
   "metadata": {},
   "outputs": [
    {
     "data": {
      "text/plain": [
       "55"
      ]
     },
     "execution_count": 59,
     "metadata": {},
     "output_type": "execute_result"
    }
   ],
   "source": [
    "(54).__add__(1)"
   ]
  },
  {
   "cell_type": "code",
   "execution_count": 60,
   "metadata": {},
   "outputs": [
    {
     "data": {
      "text/plain": [
       "range(0, 10)"
      ]
     },
     "execution_count": 60,
     "metadata": {},
     "output_type": "execute_result"
    }
   ],
   "source": [
    "range(10)"
   ]
  },
  {
   "cell_type": "code",
   "execution_count": 63,
   "metadata": {},
   "outputs": [
    {
     "name": "stdout",
     "output_type": "stream",
     "text": [
      "[0, 1, 2, 3, 4, 5, 6, 7, 8, 9]\n"
     ]
    }
   ],
   "source": [
    "print(list(range(10)))"
   ]
  },
  {
   "cell_type": "code",
   "execution_count": 68,
   "metadata": {},
   "outputs": [
    {
     "data": {
      "text/plain": [
       "[9, 8, 7, 6, 5, 4, 3, 2, 1, 0]"
      ]
     },
     "execution_count": 68,
     "metadata": {},
     "output_type": "execute_result"
    }
   ],
   "source": [
    "list(range(9,-1,-1))"
   ]
  },
  {
   "cell_type": "code",
   "execution_count": 80,
   "metadata": {},
   "outputs": [
    {
     "ename": "TypeError",
     "evalue": "'str' object does not support item assignment",
     "output_type": "error",
     "traceback": [
      "\u001b[1;31m---------------------------------------------------------------------------\u001b[0m",
      "\u001b[1;31mTypeError\u001b[0m                                 Traceback (most recent call last)",
      "\u001b[1;32m<ipython-input-80-8ece9606f8ae>\u001b[0m in \u001b[0;36m<module>\u001b[1;34m()\u001b[0m\n\u001b[0;32m      2\u001b[0m \u001b[0mmyName\u001b[0m\u001b[1;33m[\u001b[0m\u001b[1;36m0\u001b[0m\u001b[1;33m]\u001b[0m\u001b[1;33m\u001b[0m\u001b[0m\n\u001b[0;32m      3\u001b[0m \u001b[0mmyName\u001b[0m\u001b[1;33m.\u001b[0m\u001b[0msplit\u001b[0m\u001b[1;33m(\u001b[0m\u001b[1;34m'S'\u001b[0m\u001b[1;33m)\u001b[0m\u001b[1;33m\u001b[0m\u001b[0m\n\u001b[1;32m----> 4\u001b[1;33m \u001b[0mmyName\u001b[0m\u001b[1;33m[\u001b[0m\u001b[1;36m0\u001b[0m\u001b[1;33m]\u001b[0m\u001b[1;33m=\u001b[0m\u001b[1;34m\"S\"\u001b[0m\u001b[1;33m\u001b[0m\u001b[0m\n\u001b[0m",
      "\u001b[1;31mTypeError\u001b[0m: 'str' object does not support item assignment"
     ]
    }
   ],
   "source": [
    "myName=\"MinaSamir\"\n",
    "myName[0]\n",
    "myName.split('S')\n",
    "myName[0]=\"S\""
   ]
  },
  {
   "cell_type": "code",
   "execution_count": 94,
   "metadata": {},
   "outputs": [
    {
     "name": "stdout",
     "output_type": "stream",
     "text": [
      "{'Nahla', 'Andrew', 'Micahel', 'Samir', 'Mina'}\n",
      "{'Mina'}\n",
      "{'Samir', 'Micahel'}\n",
      "True\n",
      "True\n",
      "{'Samir', 'Micahel', 'Mina'}\n",
      "1\n"
     ]
    }
   ],
   "source": [
    "varA={\"Mina\",\"Micahel\",\"Samir\"}\n",
    "varC={\"Mina\",\"Micahel\",\"Samir\"}\n",
    "varD={\"Mina\",\"Samir\"}\n",
    "varE={\"Mina\",\"Mina\",\"Mina\"}\n",
    "varB={\"Mina\",\"Nahla\",\"Andrew\"}\n",
    "print(varA | varB)\n",
    "print(varA & varB)\n",
    "print(varA - varB)\n",
    "print(varA <= varC)\n",
    "print(varD.issubset(varA))\n",
    "print(varA.union(varD))\n",
    "print(len(varE))"
   ]
  },
  {
   "cell_type": "code",
   "execution_count": 100,
   "metadata": {},
   "outputs": [
    {
     "name": "stdout",
     "output_type": "stream",
     "text": [
      "2\n",
      "{'Samir': 10, 'Michael': 5, 'Mary': 9, 'Mina': 2}\n",
      "{'Samir': 10, 'Michael': 5, 'Mary': 9, 'Mina': 4}\n",
      "4\n"
     ]
    }
   ],
   "source": [
    "myDict={\"Mina\":2,\"Michael\":5,\"Samir\":10}\n",
    "print(myDict['Mina'])\n",
    "myDict['Mary']=9\n",
    "print(myDict)\n",
    "myDict['Mina']=4\n",
    "print(myDict)\n",
    "print(len(myDict))"
   ]
  },
  {
   "cell_type": "code",
   "execution_count": 101,
   "metadata": {},
   "outputs": [
    {
     "name": "stdout",
     "output_type": "stream",
     "text": [
      "Samir Scored  10\n",
      "Michael Scored  5\n",
      "Mary Scored  9\n",
      "Mina Scored  4\n"
     ]
    }
   ],
   "source": [
    "for i in myDict:\n",
    "    print(i,\"Scored \",myDict[i])"
   ]
  },
  {
   "cell_type": "code",
   "execution_count": 108,
   "metadata": {},
   "outputs": [
    {
     "name": "stdout",
     "output_type": "stream",
     "text": [
      "dict_keys(['Samir', 'Michael', 'Mary', 'Mina'])\n",
      "dict_values([10, 5, 9, 4])\n",
      "dict_items([('Samir', 10), ('Michael', 5), ('Mary', 9), ('Mina', 4)])\n",
      "Not Found\n"
     ]
    }
   ],
   "source": [
    "print(myDict.keys())\n",
    "print(myDict.values())\n",
    "print(myDict.items())\n",
    "print(myDict.get('Maro',\"Not Found\"))"
   ]
  },
  {
   "cell_type": "code",
   "execution_count": 135,
   "metadata": {},
   "outputs": [
    {
     "name": "stdout",
     "output_type": "stream",
     "text": [
      "['c', 'a', 't', 'D', 'o', 'g', 'S', 'm', 'p', 'l', 'e']\n"
     ]
    }
   ],
   "source": [
    "word_list = ['cat','Dog','Sample']\n",
    "letter_list = []\n",
    "seen = set()\n",
    "for word in word_list:\n",
    "    for letter in word:\n",
    "        if letter not in letter_list:\n",
    "            letter_list.append(letter)\n",
    "print(letter_list)"
   ]
  },
  {
   "cell_type": "code",
   "execution_count": 116,
   "metadata": {},
   "outputs": [],
   "source": [
    "sq_list = [x * x for x in range(11) if x%2 !=0]"
   ]
  },
  {
   "cell_type": "code",
   "execution_count": 117,
   "metadata": {},
   "outputs": [
    {
     "name": "stdout",
     "output_type": "stream",
     "text": [
      "[1, 9, 25, 49, 81]\n"
     ]
    }
   ],
   "source": [
    "print(sq_list)"
   ]
  },
  {
   "cell_type": "code",
   "execution_count": 151,
   "metadata": {},
   "outputs": [
    {
     "name": "stdout",
     "output_type": "stream",
     "text": [
      "['c', 'a', 't', 'D', 'o', 'g', 'S', 'a', 'm', 'p', 'l', 'e']\n"
     ]
    }
   ],
   "source": [
    "word_list = ['cat','Dog','Sample']\n",
    "letter_list = []\n",
    "letter_list=[letter for word in word_list for letter in word ]\n",
    "print(letter_list)"
   ]
  },
  {
   "cell_type": "code",
   "execution_count": 161,
   "metadata": {},
   "outputs": [
    {
     "data": {
      "text/plain": [
       "9.0"
      ]
     },
     "execution_count": 161,
     "metadata": {},
     "output_type": "execute_result"
    }
   ],
   "source": [
    "'''\n",
    "Netwon's Method of getting SQRT\n",
    "'''\n",
    "\n",
    "def square_root(n):\n",
    "    root = n/2\n",
    "    for k in range(10):\n",
    "        root = (1/2)*(root + (n/root))\n",
    "    return root\n",
    "\n",
    "square_root(81)"
   ]
  },
  {
   "cell_type": "code",
   "execution_count": 164,
   "metadata": {},
   "outputs": [
    {
     "name": "stdout",
     "output_type": "stream",
     "text": [
      "0.03571428571428571 bimkxyikeikrmlqxrvoiomcyzfrd\n",
      "0.03571428571428571 bimkxyikeikrmlqxrvoiomcyzfrd\n",
      "0.07142857142857142 bxteibx pqzyvnftmpcnvnusorfh\n",
      "0.10714285714285714 qebqpc bza xgaloqsfeq nqamci\n",
      "0.14285714285714285 fegctijufrtnxgnjielhotesarlo\n",
      "0.21428571428571427 xqtkiokxmio jhsxnrjkjyfiisnn\n",
      "0.2857142857142857 xlmkcnosdjt isg bep rymemiqq\n",
      "0.2857142857142857 xlmkcnosdjt isg bep rymemiqq\n",
      "0.2857142857142857 xlmkcnosdjt isg bep rymemiqq\n",
      "0.2857142857142857 xlmkcnosdjt isg bep rymemiqq\n",
      "0.32142857142857145 ietcansmnih jkvraxf a lktqeq\n",
      "0.32142857142857145 ietcansmnih jkvraxf a lktqeq\n"
     ]
    },
    {
     "ename": "KeyboardInterrupt",
     "evalue": "",
     "output_type": "error",
     "traceback": [
      "\u001b[1;31m---------------------------------------------------------------------------\u001b[0m",
      "\u001b[1;31mKeyboardInterrupt\u001b[0m                         Traceback (most recent call last)",
      "\u001b[1;32m<ipython-input-164-789822e55625>\u001b[0m in \u001b[0;36m<module>\u001b[1;34m()\u001b[0m\n\u001b[0;32m     37\u001b[0m                 \u001b[0mloopcount\u001b[0m \u001b[1;33m=\u001b[0m \u001b[0mloopcount\u001b[0m \u001b[1;33m+\u001b[0m \u001b[1;36m1\u001b[0m\u001b[1;33m\u001b[0m\u001b[0m\n\u001b[0;32m     38\u001b[0m \u001b[1;33m\u001b[0m\u001b[0m\n\u001b[1;32m---> 39\u001b[1;33m \u001b[0mmain\u001b[0m\u001b[1;33m(\u001b[0m\u001b[1;33m)\u001b[0m\u001b[1;33m\u001b[0m\u001b[0m\n\u001b[0m",
      "\u001b[1;32m<ipython-input-164-789822e55625>\u001b[0m in \u001b[0;36mmain\u001b[1;34m()\u001b[0m\n\u001b[0;32m     30\u001b[0m                         \u001b[0mbestscore\u001b[0m \u001b[1;33m=\u001b[0m \u001b[0mnewscore\u001b[0m\u001b[1;33m\u001b[0m\u001b[0m\n\u001b[0;32m     31\u001b[0m                         \u001b[0mbeststring\u001b[0m \u001b[1;33m=\u001b[0m \u001b[0mnewstring\u001b[0m\u001b[1;33m\u001b[0m\u001b[0m\n\u001b[1;32m---> 32\u001b[1;33m                 \u001b[0mnewstring\u001b[0m \u001b[1;33m=\u001b[0m \u001b[0mattempt\u001b[0m\u001b[1;33m(\u001b[0m\u001b[1;36m28\u001b[0m\u001b[1;33m)\u001b[0m\u001b[1;33m\u001b[0m\u001b[0m\n\u001b[0m\u001b[0;32m     33\u001b[0m                 \u001b[0mnewscore\u001b[0m \u001b[1;33m=\u001b[0m \u001b[0mscore\u001b[0m\u001b[1;33m(\u001b[0m\u001b[0mgoalstring\u001b[0m\u001b[1;33m,\u001b[0m \u001b[0mnewstring\u001b[0m\u001b[1;33m)\u001b[0m\u001b[1;33m\u001b[0m\u001b[0m\n\u001b[0;32m     34\u001b[0m \u001b[1;33m\u001b[0m\u001b[0m\n",
      "\u001b[1;32m<ipython-input-164-789822e55625>\u001b[0m in \u001b[0;36mattempt\u001b[1;34m(strlen)\u001b[0m\n\u001b[0;32m      6\u001b[0m         \u001b[0mvalue\u001b[0m \u001b[1;33m=\u001b[0m \u001b[1;34m\"\"\u001b[0m\u001b[1;33m\u001b[0m\u001b[0m\n\u001b[0;32m      7\u001b[0m         \u001b[1;32mfor\u001b[0m \u001b[0mletter\u001b[0m \u001b[1;32min\u001b[0m \u001b[0mrange\u001b[0m\u001b[1;33m(\u001b[0m\u001b[0mstrlen\u001b[0m\u001b[1;33m)\u001b[0m\u001b[1;33m:\u001b[0m\u001b[1;33m\u001b[0m\u001b[0m\n\u001b[1;32m----> 8\u001b[1;33m                 \u001b[0mvalue\u001b[0m \u001b[1;33m=\u001b[0m \u001b[0mvalue\u001b[0m \u001b[1;33m+\u001b[0m \u001b[0malphabet\u001b[0m\u001b[1;33m[\u001b[0m\u001b[0mrandom\u001b[0m\u001b[1;33m.\u001b[0m\u001b[0mrandrange\u001b[0m\u001b[1;33m(\u001b[0m\u001b[1;36m27\u001b[0m\u001b[1;33m)\u001b[0m\u001b[1;33m]\u001b[0m\u001b[1;33m\u001b[0m\u001b[0m\n\u001b[0m\u001b[0;32m      9\u001b[0m \u001b[1;33m\u001b[0m\u001b[0m\n\u001b[0;32m     10\u001b[0m         \u001b[1;32mreturn\u001b[0m \u001b[0mvalue\u001b[0m\u001b[1;33m\u001b[0m\u001b[0m\n",
      "\u001b[1;32mD:\\Anaconda\\Ana3\\lib\\random.py\u001b[0m in \u001b[0;36mrandrange\u001b[1;34m(self, start, stop, step, _int)\u001b[0m\n\u001b[0;32m    192\u001b[0m         \u001b[1;32mif\u001b[0m \u001b[0mstop\u001b[0m \u001b[1;32mis\u001b[0m \u001b[1;32mNone\u001b[0m\u001b[1;33m:\u001b[0m\u001b[1;33m\u001b[0m\u001b[0m\n\u001b[0;32m    193\u001b[0m             \u001b[1;32mif\u001b[0m \u001b[0mistart\u001b[0m \u001b[1;33m>\u001b[0m \u001b[1;36m0\u001b[0m\u001b[1;33m:\u001b[0m\u001b[1;33m\u001b[0m\u001b[0m\n\u001b[1;32m--> 194\u001b[1;33m                 \u001b[1;32mreturn\u001b[0m \u001b[0mself\u001b[0m\u001b[1;33m.\u001b[0m\u001b[0m_randbelow\u001b[0m\u001b[1;33m(\u001b[0m\u001b[0mistart\u001b[0m\u001b[1;33m)\u001b[0m\u001b[1;33m\u001b[0m\u001b[0m\n\u001b[0m\u001b[0;32m    195\u001b[0m             \u001b[1;32mraise\u001b[0m \u001b[0mValueError\u001b[0m\u001b[1;33m(\u001b[0m\u001b[1;34m\"empty range for randrange()\"\u001b[0m\u001b[1;33m)\u001b[0m\u001b[1;33m\u001b[0m\u001b[0m\n\u001b[0;32m    196\u001b[0m \u001b[1;33m\u001b[0m\u001b[0m\n",
      "\u001b[1;32mD:\\Anaconda\\Ana3\\lib\\random.py\u001b[0m in \u001b[0;36m_randbelow\u001b[1;34m(self, n, int, maxsize, type, Method, BuiltinMethod)\u001b[0m\n\u001b[0;32m    238\u001b[0m             \u001b[0mk\u001b[0m \u001b[1;33m=\u001b[0m \u001b[0mn\u001b[0m\u001b[1;33m.\u001b[0m\u001b[0mbit_length\u001b[0m\u001b[1;33m(\u001b[0m\u001b[1;33m)\u001b[0m  \u001b[1;31m# don't use (n-1) here because n can be 1\u001b[0m\u001b[1;33m\u001b[0m\u001b[0m\n\u001b[0;32m    239\u001b[0m             \u001b[0mr\u001b[0m \u001b[1;33m=\u001b[0m \u001b[0mgetrandbits\u001b[0m\u001b[1;33m(\u001b[0m\u001b[0mk\u001b[0m\u001b[1;33m)\u001b[0m          \u001b[1;31m# 0 <= r < 2**k\u001b[0m\u001b[1;33m\u001b[0m\u001b[0m\n\u001b[1;32m--> 240\u001b[1;33m             \u001b[1;32mwhile\u001b[0m \u001b[0mr\u001b[0m \u001b[1;33m>=\u001b[0m \u001b[0mn\u001b[0m\u001b[1;33m:\u001b[0m\u001b[1;33m\u001b[0m\u001b[0m\n\u001b[0m\u001b[0;32m    241\u001b[0m                 \u001b[0mr\u001b[0m \u001b[1;33m=\u001b[0m \u001b[0mgetrandbits\u001b[0m\u001b[1;33m(\u001b[0m\u001b[0mk\u001b[0m\u001b[1;33m)\u001b[0m\u001b[1;33m\u001b[0m\u001b[0m\n\u001b[0;32m    242\u001b[0m             \u001b[1;32mreturn\u001b[0m \u001b[0mr\u001b[0m\u001b[1;33m\u001b[0m\u001b[0m\n",
      "\u001b[1;31mKeyboardInterrupt\u001b[0m: "
     ]
    }
   ],
   "source": [
    "import random\n",
    "\n",
    "\n",
    "def attempt(strlen):\n",
    "\talphabet = \"abcdefghijklmnopqrstuvqxyz \"\n",
    "\tvalue = \"\"\n",
    "\tfor letter in range(strlen):\n",
    "\t\tvalue = value + alphabet[random.randrange(27)]\n",
    "\n",
    "\treturn value\n",
    "\n",
    "def score(goal, teststring):\n",
    "\tnumSame = 0\n",
    "\tfor i in range(len(goal)):\n",
    "\t\tif goal[i] == teststring[i]:\n",
    "\t\t\tnumSame = numSame + 1\n",
    "\treturn numSame / len(goal)\n",
    "\n",
    "def main():\n",
    "\n",
    "\tgoalstring = \"methinks it is like a weasel\"\n",
    "\tnewstring = attempt(28)\n",
    "\tbestscore = 0\n",
    "\tbeststring = \"\"\n",
    "\tnewscore = score(goalstring, newstring)\n",
    "\tloopcount = 0\n",
    "\twhile newscore < 1:\n",
    "\t\tif newscore > bestscore:\n",
    "\t\t\tprint (newscore, newstring)\n",
    "\t\t\tbestscore = newscore\n",
    "\t\t\tbeststring = newstring\n",
    "\t\tnewstring = attempt(28)\n",
    "\t\tnewscore = score(goalstring, newstring)\n",
    "\n",
    "\t\tif loopcount % 1000000 == 0:\n",
    "\t\t\tprint (bestscore, beststring)\n",
    "\t\tloopcount = loopcount + 1\n",
    "\n",
    "main()"
   ]
  },
  {
   "cell_type": "code",
   "execution_count": 215,
   "metadata": {},
   "outputs": [
    {
     "name": "stdout",
     "output_type": "stream",
     "text": [
      "True\n"
     ]
    }
   ],
   "source": [
    "'''\n",
    "Classes Fraction Example\n",
    "'''\n",
    "\n",
    "def gcd(m,n):\n",
    "    while m % n != 0:\n",
    "        old_m = m\n",
    "        old_n = n\n",
    "        m = old_n\n",
    "        n = old_m % old_n\n",
    "    return n\n",
    "\n",
    "class Fraction:\n",
    "    def __init__(self,top,bottom):\n",
    "        self.num = top\n",
    "        self.dem = bottom\n",
    "    def show(self):\n",
    "        print(self.num, \"/\", self.dem)\n",
    "    def __str__(self):\n",
    "        return str(self.num) + \"/\" + str(self.dem)\n",
    "    def __add__(self, otherFraction):\n",
    "        new_num = self.num*otherFraction.dem + self.dem*otherFraction.num\n",
    "        new_dem = self.dem*otherFraction.dem\n",
    "        common = gcd(new_num,new_dem)\n",
    "        return Fraction(new_num // common ,new_dem //common )\n",
    "    def __sub__(self, otherFraction):\n",
    "        new_num = self.num*otherFraction.dem - self.dem*otherFraction.num\n",
    "        new_dem = self.dem*otherFraction.dem\n",
    "        common = gcd(new_num,new_dem)\n",
    "        return Fraction(new_num // common ,new_dem //common )\n",
    "    def __mul__(self,otherFraction):\n",
    "        new_num = self.num * otherFraction.num\n",
    "        new_dem = self.dem * otherFraction.dem\n",
    "        common = gcd(new_num,new_dem)\n",
    "        return Fraction(new_num // common ,new_dem //common)\n",
    "    def __truediv__(self,otherFraction):\n",
    "        new_num = self.num * otherFraction.dem\n",
    "        new_dem = self.dem * otherFraction.num\n",
    "        common = gcd(new_num,new_dem)\n",
    "        return Fraction(new_num // common ,new_dem //common)\n",
    "    def __eq__(self,otherFraction):\n",
    "        first_num = self.num * otherFraction.dem\n",
    "        second_num = otherFraction.num * self.dem\n",
    "        return first_num == second_num\n",
    "    def __ge__(self,otherFraction):\n",
    "        if ((self.num == otherFraction.num) and (self.dem < otherFraction.dem)):\n",
    "            return True\n",
    "        elif ((self.dem == otherFraction.dem) and (self.num > otherFraction.num)):\n",
    "            return True\n",
    "        else:\n",
    "            new_num_1 = self.num * otherFraction.dem\n",
    "            new_num_2 = otherFraction.num * self.dem\n",
    "            if new_num_2 > new_num_1:\n",
    "                return True\n",
    "            else:\n",
    "                return False\n",
    "\n",
    "var1=Fraction(5,2)\n",
    "var2=Fraction(6,2)\n",
    "var3=var1.__add__(var2)\n",
    "var4 = var1 * var2\n",
    "var5 = var1 / var2\n",
    "print(var1.__ge__(var2))"
   ]
  },
  {
   "cell_type": "code",
   "execution_count": 208,
   "metadata": {},
   "outputs": [],
   "source": [
    "'''\n",
    "Euclid's Algo for GCD\n",
    "'''\n",
    "\n",
    "def gcd(m,n):\n",
    "    while m % n != 0:\n",
    "        old_m = m\n",
    "        old_n = n\n",
    "        m = old_n\n",
    "        n = old_m % old_n\n",
    "    return n\n"
   ]
  },
  {
   "cell_type": "code",
   "execution_count": 218,
   "metadata": {},
   "outputs": [
    {
     "name": "stdout",
     "output_type": "stream",
     "text": [
      "['a', 'b', 'c', 'a', 'b', 'c', 'a', 'b', 'c', 'a', 'b', 'c', 'a', 'b', 'c', 'a', 'b', 'c', 'a', 'b', 'c', 'a', 'b', 'c', 'a', 'b', 'c', 'a', 'b', 'c']\n"
     ]
    }
   ],
   "source": [
    "s = \"abc\"\n",
    "arr = s*10\n",
    "new_arr=[]\n",
    "for i in arr:\n",
    "    new_arr.append(i)\n",
    "print(new_arr)"
   ]
  },
  {
   "cell_type": "code",
   "execution_count": 221,
   "metadata": {},
   "outputs": [
    {
     "data": {
      "text/plain": [
       "7"
      ]
     },
     "execution_count": 221,
     "metadata": {},
     "output_type": "execute_result"
    }
   ],
   "source": [
    "15//2"
   ]
  },
  {
   "cell_type": "code",
   "execution_count": 222,
   "metadata": {},
   "outputs": [
    {
     "data": {
      "text/plain": [
       "3.3333333333333335"
      ]
     },
     "execution_count": 222,
     "metadata": {},
     "output_type": "execute_result"
    }
   ],
   "source": [
    "10/3"
   ]
  },
  {
   "cell_type": "code",
   "execution_count": 223,
   "metadata": {},
   "outputs": [
    {
     "data": {
      "text/plain": [
       "3"
      ]
     },
     "execution_count": 223,
     "metadata": {},
     "output_type": "execute_result"
    }
   ],
   "source": [
    "10//3"
   ]
  },
  {
   "cell_type": "code",
   "execution_count": 224,
   "metadata": {},
   "outputs": [
    {
     "data": {
      "text/plain": [
       "1"
      ]
     },
     "execution_count": 224,
     "metadata": {},
     "output_type": "execute_result"
    }
   ],
   "source": [
    "10%3"
   ]
  },
  {
   "cell_type": "code",
   "execution_count": 225,
   "metadata": {},
   "outputs": [
    {
     "data": {
      "text/plain": [
       "3"
      ]
     },
     "execution_count": 225,
     "metadata": {},
     "output_type": "execute_result"
    }
   ],
   "source": [
    "3%10"
   ]
  },
  {
   "cell_type": "code",
   "execution_count": 226,
   "metadata": {},
   "outputs": [
    {
     "data": {
      "text/plain": [
       "2"
      ]
     },
     "execution_count": 226,
     "metadata": {},
     "output_type": "execute_result"
    }
   ],
   "source": [
    "2%10"
   ]
  },
  {
   "cell_type": "code",
   "execution_count": 230,
   "metadata": {},
   "outputs": [
    {
     "data": {
      "text/plain": [
       "7"
      ]
     },
     "execution_count": 230,
     "metadata": {},
     "output_type": "execute_result"
    }
   ],
   "source": [
    "(3%10)+4"
   ]
  },
  {
   "cell_type": "code",
   "execution_count": 233,
   "metadata": {},
   "outputs": [
    {
     "data": {
      "text/plain": [
       "5"
      ]
     },
     "execution_count": 233,
     "metadata": {},
     "output_type": "execute_result"
    }
   ],
   "source": [
    "15//3"
   ]
  },
  {
   "cell_type": "code",
   "execution_count": 283,
   "metadata": {},
   "outputs": [
    {
     "data": {
      "text/plain": [
       "1"
      ]
     },
     "execution_count": 283,
     "metadata": {},
     "output_type": "execute_result"
    }
   ],
   "source": [
    "13%3"
   ]
  },
  {
   "cell_type": "code",
   "execution_count": 269,
   "metadata": {},
   "outputs": [
    {
     "data": {
      "text/plain": [
       "250"
      ]
     },
     "execution_count": 269,
     "metadata": {},
     "output_type": "execute_result"
    }
   ],
   "source": [
    "(1000//4)%1000"
   ]
  },
  {
   "cell_type": "code",
   "execution_count": null,
   "metadata": {},
   "outputs": [],
   "source": []
  }
 ],
 "metadata": {
  "kernelspec": {
   "display_name": "Python 3",
   "language": "python",
   "name": "python3"
  },
  "language_info": {
   "codemirror_mode": {
    "name": "ipython",
    "version": 3
   },
   "file_extension": ".py",
   "mimetype": "text/x-python",
   "name": "python",
   "nbconvert_exporter": "python",
   "pygments_lexer": "ipython3",
   "version": "3.5.5"
  }
 },
 "nbformat": 4,
 "nbformat_minor": 2
}
